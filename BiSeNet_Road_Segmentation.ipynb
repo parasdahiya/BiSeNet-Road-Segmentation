{
  "nbformat": 4,
  "nbformat_minor": 0,
  "metadata": {
    "colab": {
      "name": "BiSeNet - Road Segmentation.ipynb",
      "version": "0.3.2",
      "provenance": [],
      "collapsed_sections": []
    },
    "kernelspec": {
      "name": "python3",
      "display_name": "Python 3"
    },
    "accelerator": "GPU"
  },
  "cells": [
    {
      "cell_type": "code",
      "metadata": {
        "id": "Axm6b-VAJs6h",
        "colab_type": "code",
        "outputId": "3657f181-efe1-4ce9-d558-16a576cc243d",
        "colab": {
          "base_uri": "https://localhost:8080/",
          "height": 125
        }
      },
      "source": [
        "from google.colab import drive\n",
        "drive.mount('/content/gdrive')"
      ],
      "execution_count": 0,
      "outputs": [
        {
          "output_type": "stream",
          "text": [
            "Go to this URL in a browser: https://accounts.google.com/o/oauth2/auth?client_id=947318989803-6bn6qk8qdgf4n4g3pfee6491hc0brc4i.apps.googleusercontent.com&redirect_uri=urn%3Aietf%3Awg%3Aoauth%3A2.0%3Aoob&scope=email%20https%3A%2F%2Fwww.googleapis.com%2Fauth%2Fdocs.test%20https%3A%2F%2Fwww.googleapis.com%2Fauth%2Fdrive%20https%3A%2F%2Fwww.googleapis.com%2Fauth%2Fdrive.photos.readonly%20https%3A%2F%2Fwww.googleapis.com%2Fauth%2Fpeopleapi.readonly&response_type=code\n",
            "\n",
            "Enter your authorization code:\n",
            "··········\n",
            "Mounted at /content/gdrive\n"
          ],
          "name": "stdout"
        }
      ]
    },
    {
      "cell_type": "code",
      "metadata": {
        "id": "idgoaSMZKJZs",
        "colab_type": "code",
        "outputId": "4b386557-2b20-4a7d-fa5b-4e15d4d6b8e5",
        "colab": {
          "base_uri": "https://localhost:8080/",
          "height": 35
        }
      },
      "source": [
        "%cd /content/gdrive/'My Drive'/SemanticSegmentation"
      ],
      "execution_count": 0,
      "outputs": [
        {
          "output_type": "stream",
          "text": [
            "/content/gdrive/My Drive/SemanticSegmentation\n"
          ],
          "name": "stdout"
        }
      ]
    },
    {
      "cell_type": "code",
      "metadata": {
        "id": "V4lxGvG169o8",
        "colab_type": "code",
        "colab": {}
      },
      "source": [
        "import os\n",
        "import numpy as np\n",
        "from PIL import Image"
      ],
      "execution_count": 0,
      "outputs": []
    },
    {
      "cell_type": "code",
      "metadata": {
        "id": "Q1QHVRZhPCUK",
        "colab_type": "code",
        "colab": {}
      },
      "source": [
        "from matplotlib.pyplot import imshow\n",
        "%matplotlib inline"
      ],
      "execution_count": 0,
      "outputs": []
    },
    {
      "cell_type": "code",
      "metadata": {
        "id": "5T-KqaGIpSmc",
        "colab_type": "code",
        "colab": {}
      },
      "source": [
        "import numpy as np\n",
        "import re\n",
        "import random\n",
        "from glob import glob\n",
        "import shutil\n",
        "import time"
      ],
      "execution_count": 0,
      "outputs": []
    },
    {
      "cell_type": "code",
      "metadata": {
        "id": "REB561v21Obe",
        "colab_type": "code",
        "colab": {}
      },
      "source": [
        "import tensorflow as tf"
      ],
      "execution_count": 0,
      "outputs": []
    },
    {
      "cell_type": "code",
      "metadata": {
        "id": "-okVPNx5rJIc",
        "colab_type": "code",
        "colab": {}
      },
      "source": [
        "BACKGROUND_COLOR = [255, 0, 0]"
      ],
      "execution_count": 0,
      "outputs": []
    },
    {
      "cell_type": "code",
      "metadata": {
        "id": "FaoYafIzqiOx",
        "colab_type": "code",
        "colab": {}
      },
      "source": [
        "def one_hot(gt_image):\n",
        "  gt_bg = np.all(gt_image == BACKGROUND_COLOR, axis=2)\n",
        "  gt_bg = gt_bg.reshape(*gt_bg.shape, 1)\n",
        "  gt_image = np.concatenate((gt_bg, np.invert(gt_bg)), axis=2)\n",
        "  \n",
        "  return gt_image"
      ],
      "execution_count": 0,
      "outputs": []
    },
    {
      "cell_type": "code",
      "metadata": {
        "id": "MFpxRYa6k2OD",
        "colab_type": "code",
        "colab": {}
      },
      "source": [
        "def preprocess_image(image, gt_image, width, height):\n",
        "  \n",
        "  image = image.resize((width, height), Image.ANTIALIAS)    # best down-sizing filter\n",
        "  gt_image = gt_image.resize((width, height), Image.ANTIALIAS)    # best down-sizing filter\n",
        "  \n",
        "  image = np.float32(image)\n",
        "  image = image/255.0\n",
        "  \n",
        "  gt_image = np.array(gt_image)\n",
        "  gt_image = np.float32(one_hot(gt_image))\n",
        "  \n",
        "  return image, gt_image\n",
        "  "
      ],
      "execution_count": 0,
      "outputs": []
    },
    {
      "cell_type": "code",
      "metadata": {
        "id": "1rVo4WI3JrI4",
        "colab_type": "code",
        "colab": {}
      },
      "source": [
        "def gen_batch_fn(data_dir, width = 1200, height = 350):\n",
        "  \n",
        "  image_paths = glob(os.path.join(data_dir, 'image_2', '*.png'))        \n",
        "  gt_paths = {\n",
        "      re.sub(r'_(lane|road)_', '_', os.path.basename(path)): path \n",
        "      for path in glob(os.path.join(data_dir, 'gt_image_2', '*_road_*.png'))\n",
        "  }\n",
        "  \n",
        "  background_color = np.array([255, 0, 0])\n",
        "  \n",
        "  def get_batch(batch_size):\n",
        "    \n",
        "    random.shuffle(image_paths)\n",
        "    for batch in range(0, len(image_paths), batch_size):\n",
        "      images = []\n",
        "      gt_images = []\n",
        "      \n",
        "      for image_file in image_paths[batch: batch + batch_size]:\n",
        "        gt_file = gt_paths[os.path.basename(image_file)]\n",
        "        \n",
        "        image = Image.open(image_file)\n",
        "        gt_image = Image.open(gt_file)\n",
        "        \n",
        "        image, gt_image = preprocess_image(image, gt_image, width, height)\n",
        "        \n",
        "        #print(image.shape, gt_image.shape)\n",
        "        \n",
        "        images.append(image)\n",
        "        gt_images.append(gt_image)\n",
        "        \n",
        "      images = np.array(images)\n",
        "      gt_images = np.array(gt_images) \n",
        "      \n",
        "      yield images, gt_images\n",
        "        \n",
        "  \n",
        "  return get_batch"
      ],
      "execution_count": 0,
      "outputs": []
    },
    {
      "cell_type": "code",
      "metadata": {
        "id": "ZE5tcNuqE2Ft",
        "colab_type": "code",
        "colab": {}
      },
      "source": [
        "# image_paths = glob(os.path.join('data/potholes/idd', '*.png'))\n",
        "# paths = []\n",
        "# for img_path in image_paths:\n",
        "#   m = os.path.basename(img_path).split('_')[0]\n",
        "#   st = m + '_gtFine_polygons.png'\n",
        "#   x = os.path.join('data/IDD/gtFine/train/*', st)\n",
        "#   s = glob(x)\n",
        "#   [g] = s\n",
        "#   print(g)\n",
        "#   break"
      ],
      "execution_count": 0,
      "outputs": []
    },
    {
      "cell_type": "code",
      "metadata": {
        "id": "G03-DKiADuTb",
        "colab_type": "code",
        "colab": {}
      },
      "source": [
        "def gen_batch_fn_tempdemo(data_dir, width = 1200, height = 350, datatype='train'):\n",
        "  \n",
        "  background_color = np.array([255, 0, 0])\n",
        "  image_paths = glob(os.path.join('data/potholes/australia', '*.JPG'))\n",
        "  paths = []\n",
        "  for img_path in image_paths:\n",
        "    m = os.path.basename(img_path).split('_')[0]\n",
        "    st = m + '_gtFine_polygons.png'\n",
        "    x = os.path.join('data/IDD/gtFine/train/*', st)\n",
        "    s = glob(x)\n",
        "    [gt_path] = s \n",
        "    paths.append([img_path, gt_path])\n",
        "  \n",
        "  def get_batch(batch_size):\n",
        "    \n",
        "    random.shuffle(paths)\n",
        "    for batch in range(0, len(paths), batch_size):\n",
        "      images = []\n",
        "      gt_images = []\n",
        "      \n",
        "      for path in paths[batch: batch + batch_size]:\n",
        "        \n",
        "        image = Image.open(path[0])\n",
        "        gt_image = Image.open(path[1])\n",
        "        \n",
        "        image, gt_image = preprocess_image(image, gt_image, width, height)\n",
        "                \n",
        "        images.append(image)\n",
        "        gt_images.append(gt_image)\n",
        "        \n",
        "      images = np.array(images)\n",
        "      gt_images = np.array(gt_images) \n",
        "      \n",
        "      yield images, gt_images\n",
        "  \n",
        "  return get_batch"
      ],
      "execution_count": 0,
      "outputs": []
    },
    {
      "cell_type": "code",
      "metadata": {
        "id": "WK3WU5V3BCP8",
        "colab_type": "code",
        "colab": {}
      },
      "source": [
        "def gen_batch_fn_idd(data_dir, width = 1200, height = 350, datatype='train'):\n",
        "  \n",
        "  background_color = np.array([255, 0, 0])\n",
        "  image_paths = glob(os.path.join(data_dir, 'leftImg8bit', datatype, '*', '*.png'))\n",
        "  paths = []\n",
        "  for img_path in image_paths:\n",
        "    m = os.path.basename(img_path).split('_')[0]\n",
        "    st = m + '_gtFine_polygons.png'\n",
        "    n = os.path.dirname(img_path).split('/')\n",
        "    n[2] = 'gtFine'\n",
        "    n = '/'.join(n)\n",
        "    gt_path = os.path.join(n, st)\n",
        "    paths.append([img_path, gt_path])\n",
        "  \n",
        "  def get_batch(batch_size):\n",
        "    \n",
        "    random.shuffle(paths)\n",
        "    for batch in range(0, len(paths), batch_size):\n",
        "      images = []\n",
        "      gt_images = []\n",
        "      \n",
        "      for path in paths[batch: batch + batch_size]:\n",
        "        \n",
        "        image = Image.open(path[0])\n",
        "        gt_image = Image.open(path[1])\n",
        "        \n",
        "        image, gt_image = preprocess_image(image, gt_image, width, height)\n",
        "                \n",
        "        images.append(image)\n",
        "        gt_images.append(gt_image)\n",
        "        \n",
        "      images = np.array(images)\n",
        "      gt_images = np.array(gt_images) \n",
        "      \n",
        "      yield images, gt_images\n",
        "  \n",
        "  return get_batch\n",
        "    "
      ],
      "execution_count": 0,
      "outputs": []
    },
    {
      "cell_type": "code",
      "metadata": {
        "id": "pXsJe90BGI5q",
        "colab_type": "code",
        "colab": {}
      },
      "source": [
        "# get_batch = gen_batch_fn_idd(data_dir='data/IDD', width = 1200, height = 350, datatype='train')"
      ],
      "execution_count": 0,
      "outputs": []
    },
    {
      "cell_type": "code",
      "metadata": {
        "id": "vOQmjPDotHDK",
        "colab_type": "code",
        "colab": {}
      },
      "source": [
        "# get_batch = gen_batch_fn('data/data_road/training', width = 1120, height = 256)"
      ],
      "execution_count": 0,
      "outputs": []
    },
    {
      "cell_type": "code",
      "metadata": {
        "id": "Jpyfv8VpthSA",
        "colab_type": "code",
        "colab": {}
      },
      "source": [
        "# for ims, gt_ims in get_batch(2):\n",
        "#   print(ims.shape, gt_ims.shape)\n",
        "#   #print(gt_ims)\n",
        "  \n",
        "#   break"
      ],
      "execution_count": 0,
      "outputs": []
    },
    {
      "cell_type": "code",
      "metadata": {
        "id": "3Cxb4jVZzcXj",
        "colab_type": "code",
        "colab": {}
      },
      "source": [
        "def save_test_predictions(sess, test_dir, save_dir, width = 1120, height = 256):\n",
        "  output_dir = os.path.join(save_dir, str(time.time()))\n",
        "  if os.path.exists(output_dir):\n",
        "    shutil.rmtree(output_dir)\n",
        "  os.makedirs(output_dir)\n",
        "  \n",
        "  print(\"Training finished. Saving images to {}\".format(output_dir))\n",
        "  \n",
        "  for image in glob(os.path.join(test_dir, 'image_2', '*.png')):\n",
        "    im = Image.open(image)\n",
        "    im = im.resize((width, height), Image.ANTIALIAS)\n",
        "    im_arr = np.array(im)\n",
        "    \n",
        "    im_scaled = np.float32(im_arr)/255.0\n",
        "    \n",
        "    label = sess.run([tf.math.softmax(output_label)], feed_dict = {input_im: [im_scaled]})\n",
        "    print(len(label))\n",
        "    label = label[0][:, :, 1]\n",
        "    segmentation = (label > 0.5).reshape(height, width, 1)\n",
        "    \n",
        "    mask = np.dot(segmentation, np.array([[0, 255, 0, 127]]))    \n",
        "    mask = Image.fromarray(mask, 'RGBA')\n",
        "    \n",
        "    Image.paste(im, mask = mask)\n",
        "    \n",
        "    im.save(os.path.join(save_dir, os.path.basename(image)))\n",
        "    \n",
        "    break\n",
        "    "
      ],
      "execution_count": 0,
      "outputs": []
    },
    {
      "cell_type": "code",
      "metadata": {
        "id": "Fxd1Nke0_S6u",
        "colab_type": "code",
        "colab": {}
      },
      "source": [
        ""
      ],
      "execution_count": 0,
      "outputs": []
    },
    {
      "cell_type": "code",
      "metadata": {
        "id": "bIGoQHLP0eFh",
        "colab_type": "code",
        "colab": {}
      },
      "source": [
        "\n",
        "from tensorflow.contrib import slim\n",
        "from tensorflow.contrib.slim.nets import resnet_v2\n",
        "#from models import resnet_v2"
      ],
      "execution_count": 0,
      "outputs": []
    },
    {
      "cell_type": "code",
      "metadata": {
        "id": "QLs3kSUuFf4Q",
        "colab_type": "code",
        "colab": {}
      },
      "source": [
        "from tensorflow.keras import layers"
      ],
      "execution_count": 0,
      "outputs": []
    },
    {
      "cell_type": "code",
      "metadata": {
        "id": "4kIc4Evb_MXw",
        "colab_type": "code",
        "colab": {}
      },
      "source": [
        ""
      ],
      "execution_count": 0,
      "outputs": []
    },
    {
      "cell_type": "code",
      "metadata": {
        "id": "oFlkeE8USbxR",
        "colab_type": "code",
        "colab": {}
      },
      "source": [
        "tf.reset_default_graph()"
      ],
      "execution_count": 0,
      "outputs": []
    },
    {
      "cell_type": "code",
      "metadata": {
        "id": "_Wa9TOVM0dpQ",
        "colab_type": "code",
        "colab": {}
      },
      "source": [
        ""
      ],
      "execution_count": 0,
      "outputs": []
    },
    {
      "cell_type": "code",
      "metadata": {
        "id": "VebHnbdoDwhP",
        "colab_type": "code",
        "colab": {}
      },
      "source": [
        "def arm_module(layer, n_filter_maps):\n",
        "  \n",
        "  net = tf.math.reduce_mean(layer, axis = [1,2], keepdims = True, name = 'global_avg_pool')\n",
        "  net = layers.Conv2D(filters = n_filter_maps, kernel_size = [1,1])(net)\n",
        "  net = layers.BatchNormalization()(net)\n",
        "  net = tf.math.sigmoid(net, name = 'sigmoid')\n",
        "  \n",
        "  scaled_layer = tf.multiply(layer, net)\n",
        "  \n",
        "  return scaled_layer"
      ],
      "execution_count": 0,
      "outputs": []
    },
    {
      "cell_type": "code",
      "metadata": {
        "id": "-FTzVxWRJW9T",
        "colab_type": "code",
        "colab": {}
      },
      "source": [
        "def ffm_module(spatial_layer, context_layer, num_classes):\n",
        "  \n",
        "  input_features = tf.concat([spatial_layer, context_layer], axis = -1)\n",
        "  net = layers.Conv2D(filters = num_classes, kernel_size = [3,3], padding = 'same', activation = 'relu')(input_features)\n",
        "  net = layers.BatchNormalization()(net)\n",
        "  \n",
        "  net_vector = tf.reduce_mean(net, axis = [1,2], keepdims = True)\n",
        "  \n",
        "  # First 1x1 convolution uses 16 filters\n",
        "  net_vector = layers.Conv2D(filters = 16, kernel_size = [1,1], padding = 'same', activation = 'relu')(net_vector)\n",
        "  net_vector = layers.Conv2D(filters = num_classes, kernel_size = [1,1], padding = 'same')(net_vector)\n",
        "  net_vector = layers.Activation('sigmoid')(net_vector)\n",
        "  \n",
        "  net_scaled = tf.multiply(net, net_vector)\n",
        "  net = tf.add(net, net_scaled)\n",
        "  \n",
        "  return net\n",
        "  "
      ],
      "execution_count": 0,
      "outputs": []
    },
    {
      "cell_type": "code",
      "metadata": {
        "id": "wzPe9OzB7RsL",
        "colab_type": "code",
        "colab": {}
      },
      "source": [
        "frontend = 'ResNet101'\n",
        "num_classes = 2\n",
        "input_im = tf.placeholder(shape = (None, None, None, 3), dtype = tf.float32, name='input_im')\n",
        "gt_im = tf.placeholder(shape = (None, None, None, 2), dtype = tf.float32, name='gt_im')"
      ],
      "execution_count": 0,
      "outputs": []
    },
    {
      "cell_type": "code",
      "metadata": {
        "id": "dDARlPErrT07",
        "colab_type": "code",
        "outputId": "c427492a-09b8-4d1b-dbc5-2c20b2c9a680",
        "colab": {
          "base_uri": "https://localhost:8080/",
          "height": 35
        }
      },
      "source": [
        "print(input_im)"
      ],
      "execution_count": 0,
      "outputs": [
        {
          "output_type": "stream",
          "text": [
            "Tensor(\"input_im:0\", shape=(?, ?, ?, 3), dtype=float32)\n"
          ],
          "name": "stdout"
        }
      ]
    },
    {
      "cell_type": "code",
      "metadata": {
        "id": "hjDYIGruGRT7",
        "colab_type": "code",
        "colab": {}
      },
      "source": [
        "## Spatial Path"
      ],
      "execution_count": 0,
      "outputs": []
    },
    {
      "cell_type": "code",
      "metadata": {
        "id": "HTsnXot6GS2o",
        "colab_type": "code",
        "outputId": "b7550883-762b-4ffe-fb41-aa1fda336c7a",
        "colab": {
          "base_uri": "https://localhost:8080/",
          "height": 108
        }
      },
      "source": [
        "layer_spatial = layers.Conv2D(input_shape=(None, 1120, 256, 3), filters=64, kernel_size=[3,3], strides=2, padding='same', activation='relu')(input_im)\n",
        "layer_spatial = layers.Conv2D(filters=128, kernel_size=[3,3], strides=2, padding='same', activation='relu')(layer_spatial)\n",
        "spatial_output = layers.Conv2D(filters=256, kernel_size=[3,3], strides=2, padding='same', activation='relu')(layer_spatial)"
      ],
      "execution_count": 0,
      "outputs": [
        {
          "output_type": "stream",
          "text": [
            "WARNING: Logging before flag parsing goes to stderr.\n",
            "W0831 08:49:35.604157 140356339836800 deprecation.py:506] From /usr/local/lib/python3.6/dist-packages/tensorflow/python/ops/init_ops.py:1251: calling VarianceScaling.__init__ (from tensorflow.python.ops.init_ops) with dtype is deprecated and will be removed in a future version.\n",
            "Instructions for updating:\n",
            "Call initializer instance with the dtype argument instead of passing it to the constructor\n"
          ],
          "name": "stderr"
        }
      ]
    },
    {
      "cell_type": "code",
      "metadata": {
        "id": "kMV_eeBFIvhE",
        "colab_type": "code",
        "outputId": "86ed1309-8055-44c0-cb6f-a3b3a8fea907",
        "colab": {
          "base_uri": "https://localhost:8080/",
          "height": 35
        }
      },
      "source": [
        "spatial_output"
      ],
      "execution_count": 0,
      "outputs": [
        {
          "output_type": "execute_result",
          "data": {
            "text/plain": [
              "<tf.Tensor 'conv2d_2/Relu:0' shape=(?, ?, ?, 256) dtype=float32>"
            ]
          },
          "metadata": {
            "tags": []
          },
          "execution_count": 27
        }
      ]
    },
    {
      "cell_type": "code",
      "metadata": {
        "id": "xwqnJpqJGR5v",
        "colab_type": "code",
        "colab": {}
      },
      "source": [
        "## Context Path"
      ],
      "execution_count": 0,
      "outputs": []
    },
    {
      "cell_type": "code",
      "metadata": {
        "id": "gzHJSL5Ajvzw",
        "colab_type": "code",
        "colab": {}
      },
      "source": [
        "with slim.arg_scope(resnet_v2.resnet_arg_scope()):\n",
        "  #tf.reset_default_graph()\n",
        "  last_layer, end_points = resnet_v2.resnet_v2_101(input_im, is_training=True, scope='resnet_v2_101', global_pool = False)\n",
        "  frontend_scope='resnet_v2_101'\n",
        "  init_fn = slim.assign_from_checkpoint_fn(model_path=os.path.join('models', 'resnet_v2_101.ckpt'), var_list=slim.get_model_variables('resnet_v2_101'), ignore_missing_vars=True)"
      ],
      "execution_count": 0,
      "outputs": []
    },
    {
      "cell_type": "code",
      "metadata": {
        "id": "Zj1y6ofJ8IwP",
        "colab_type": "code",
        "outputId": "bc9e8ef6-20b7-4eea-b084-8b468a6f91d0",
        "colab": {
          "base_uri": "https://localhost:8080/",
          "height": 35
        }
      },
      "source": [
        "print(last_layer)"
      ],
      "execution_count": 0,
      "outputs": [
        {
          "output_type": "stream",
          "text": [
            "Tensor(\"resnet_v2_101/postnorm/Relu:0\", shape=(?, ?, ?, 2048), dtype=float32)\n"
          ],
          "name": "stdout"
        }
      ]
    },
    {
      "cell_type": "code",
      "metadata": {
        "id": "9B7t05BN_ifa",
        "colab_type": "code",
        "colab": {}
      },
      "source": [
        "layer_reduced16 = end_points[frontend_scope + '/block2']\n",
        "layer_reduced32 = last_layer"
      ],
      "execution_count": 0,
      "outputs": []
    },
    {
      "cell_type": "code",
      "metadata": {
        "id": "F09EOrePBDkY",
        "colab_type": "code",
        "colab": {}
      },
      "source": [
        "layer_arm16 = arm_module(layer_reduced16, n_filter_maps = 512)\n",
        "layer_arm32 = arm_module(layer_reduced32, n_filter_maps = 2048)\n",
        "layer_global_context = tf.reduce_mean(last_layer, axis = [1,2], keepdims = True, name = 'global_context')"
      ],
      "execution_count": 0,
      "outputs": []
    },
    {
      "cell_type": "code",
      "metadata": {
        "id": "yKvfy4yXy8CD",
        "colab_type": "code",
        "colab": {}
      },
      "source": [
        "## Combining Context Features\n",
        "layer_context1 = tf.math.multiply(layer_arm32, layer_global_context)\n",
        "layer_context1 = layers.UpSampling2D(size = 4, interpolation = 'bilinear')(layer_context1)\n",
        "layer_context2 = layers.UpSampling2D(size = 2, interpolation = 'bilinear')(layer_arm16)\n",
        "\n",
        "context_output = tf.concat([layer_context1, layer_context2], axis = -1)"
      ],
      "execution_count": 0,
      "outputs": []
    },
    {
      "cell_type": "code",
      "metadata": {
        "id": "q3OC2ifOFepl",
        "colab_type": "code",
        "outputId": "60b62762-be8a-436d-90db-3017b796e00c",
        "colab": {
          "base_uri": "https://localhost:8080/",
          "height": 35
        }
      },
      "source": [
        "print(context_output)"
      ],
      "execution_count": 0,
      "outputs": [
        {
          "output_type": "stream",
          "text": [
            "Tensor(\"concat:0\", shape=(?, ?, ?, 2560), dtype=float32)\n"
          ],
          "name": "stdout"
        }
      ]
    },
    {
      "cell_type": "code",
      "metadata": {
        "id": "34RZteHdE9rB",
        "colab_type": "code",
        "colab": {}
      },
      "source": [
        "ffm_output = ffm_module(spatial_output, context_output, num_classes)"
      ],
      "execution_count": 0,
      "outputs": []
    },
    {
      "cell_type": "code",
      "metadata": {
        "id": "n1ULQeqbJU2D",
        "colab_type": "code",
        "colab": {}
      },
      "source": [
        "output_label = layers.UpSampling2D(size = 8, interpolation = 'bilinear')(ffm_output)\n",
        "output_label = layers.Conv2D(filters = num_classes, kernel_size = [1,1], activation = None)(output_label)"
      ],
      "execution_count": 0,
      "outputs": []
    },
    {
      "cell_type": "code",
      "metadata": {
        "id": "wI95ffITJQtj",
        "colab_type": "code",
        "outputId": "db9ab478-4db3-49a0-ccce-5a4ecc36e32e",
        "colab": {
          "base_uri": "https://localhost:8080/",
          "height": 35
        }
      },
      "source": [
        "print(output_label)"
      ],
      "execution_count": 0,
      "outputs": [
        {
          "output_type": "stream",
          "text": [
            "Tensor(\"conv2d_8/BiasAdd:0\", shape=(?, ?, ?, 2), dtype=float32)\n"
          ],
          "name": "stdout"
        }
      ]
    },
    {
      "cell_type": "code",
      "metadata": {
        "id": "f4EenkOSUBG2",
        "colab_type": "code",
        "colab": {}
      },
      "source": [
        "pred_gt = tf.math.softmax(output_label)"
      ],
      "execution_count": 0,
      "outputs": []
    },
    {
      "cell_type": "code",
      "metadata": {
        "id": "RoifS9uQVykC",
        "colab_type": "code",
        "outputId": "8df0e931-83ec-41f6-e421-cfdb59700f0d",
        "colab": {
          "base_uri": "https://localhost:8080/",
          "height": 33
        }
      },
      "source": [
        "pred_gt"
      ],
      "execution_count": 0,
      "outputs": [
        {
          "output_type": "execute_result",
          "data": {
            "text/plain": [
              "<tf.Tensor 'Softmax:0' shape=(?, ?, ?, 2) dtype=float32>"
            ]
          },
          "metadata": {
            "tags": []
          },
          "execution_count": 121
        }
      ]
    },
    {
      "cell_type": "code",
      "metadata": {
        "id": "Z3rngRvWUpZW",
        "colab_type": "code",
        "outputId": "9370f9e9-a23d-4120-bd7b-d334cbd18e6d",
        "colab": {
          "base_uri": "https://localhost:8080/",
          "height": 33
        }
      },
      "source": [
        "print(pred_gt)"
      ],
      "execution_count": 0,
      "outputs": [
        {
          "output_type": "stream",
          "text": [
            "Tensor(\"Softmax:0\", shape=(?, ?, ?, 2), dtype=float32)\n"
          ],
          "name": "stdout"
        }
      ]
    },
    {
      "cell_type": "code",
      "metadata": {
        "id": "7TiVSXe7A9Ge",
        "colab_type": "code",
        "colab": {}
      },
      "source": [
        "EPOCHS = 10\n",
        "BATCH_SIZE = 8\n",
        "TEST_DIR = 'data/data_road/testing'\n",
        "SAVE_DIR = 'saved_tests'"
      ],
      "execution_count": 0,
      "outputs": []
    },
    {
      "cell_type": "code",
      "metadata": {
        "id": "jskeFke0WQ5F",
        "colab_type": "code",
        "colab": {}
      },
      "source": [
        "EPOCHS = 10\n",
        "BATCH_SIZE = 4"
      ],
      "execution_count": 0,
      "outputs": []
    },
    {
      "cell_type": "code",
      "metadata": {
        "id": "9tm2NvMTA84d",
        "colab_type": "code",
        "outputId": "94a40d7f-7769-4f0c-f30c-a1b183f22405",
        "colab": {
          "base_uri": "https://localhost:8080/",
          "height": 143
        }
      },
      "source": [
        "cross_entropy_loss = tf.reduce_mean(tf.losses.softmax_cross_entropy(onehot_labels = gt_im, logits = output_label))\n",
        "# optimizer = tf.train.AdamOptimizer(learning_rate = 0.001).minimize(cross_entropy_loss)\n",
        "optimizer = tf.train.RMSPropOptimizer(learning_rate = 0.0001, decay = 0.995).minimize(cross_entropy_loss)"
      ],
      "execution_count": 0,
      "outputs": [
        {
          "output_type": "stream",
          "text": [
            "W0831 08:49:44.788798 140356339836800 deprecation.py:323] From /usr/local/lib/python3.6/dist-packages/tensorflow/python/ops/losses/losses_impl.py:121: add_dispatch_support.<locals>.wrapper (from tensorflow.python.ops.array_ops) is deprecated and will be removed in a future version.\n",
            "Instructions for updating:\n",
            "Use tf.where in 2.0, which has the same broadcast rule as np.where\n",
            "W0831 08:49:47.361911 140356339836800 deprecation.py:506] From /usr/local/lib/python3.6/dist-packages/tensorflow/python/training/rmsprop.py:119: calling Ones.__init__ (from tensorflow.python.ops.init_ops) with dtype is deprecated and will be removed in a future version.\n",
            "Instructions for updating:\n",
            "Call initializer instance with the dtype argument instead of passing it to the constructor\n"
          ],
          "name": "stderr"
        }
      ]
    },
    {
      "cell_type": "code",
      "metadata": {
        "id": "2B8a_k5Gf4Gd",
        "colab_type": "code",
        "colab": {}
      },
      "source": [
        "saver = tf.train.Saver()"
      ],
      "execution_count": 0,
      "outputs": []
    },
    {
      "cell_type": "code",
      "metadata": {
        "id": "uYtANDf1Bx2E",
        "colab_type": "code",
        "colab": {}
      },
      "source": [
        "sess = tf.Session()"
      ],
      "execution_count": 0,
      "outputs": []
    },
    {
      "cell_type": "code",
      "metadata": {
        "id": "q18sElYf3aq_",
        "colab_type": "code",
        "colab": {}
      },
      "source": [
        "run_options = tf.RunOptions(trace_level=tf.RunOptions.FULL_TRACE)\n",
        "run_metadata = tf.RunMetadata()"
      ],
      "execution_count": 0,
      "outputs": []
    },
    {
      "cell_type": "code",
      "metadata": {
        "id": "1G1Ktoh8OyHm",
        "colab_type": "code",
        "colab": {}
      },
      "source": [
        "#with tf.Session() as sess:\n",
        "sess.run(tf.global_variables_initializer())\n",
        "init_fn(sess)"
      ],
      "execution_count": 0,
      "outputs": []
    },
    {
      "cell_type": "code",
      "metadata": {
        "id": "mT5ZyzL4soVY",
        "colab_type": "code",
        "outputId": "873f6f21-1230-483c-e560-cd09c411f1c0",
        "colab": {
          "base_uri": "https://localhost:8080/",
          "height": 90
        }
      },
      "source": [
        "saver.restore(sess, \"./bisenet_ckpt/model\")"
      ],
      "execution_count": 0,
      "outputs": [
        {
          "output_type": "stream",
          "text": [
            "W0803 03:36:06.193031 139652218144640 deprecation.py:323] From /usr/local/lib/python3.6/dist-packages/tensorflow/python/training/saver.py:1276: checkpoint_exists (from tensorflow.python.training.checkpoint_management) is deprecated and will be removed in a future version.\n",
            "Instructions for updating:\n",
            "Use standard file APIs to check for files with this prefix.\n"
          ],
          "name": "stderr"
        }
      ]
    },
    {
      "cell_type": "code",
      "metadata": {
        "id": "azOI_ECx2o1c",
        "colab_type": "code",
        "outputId": "848155e4-8a40-40cc-a3b6-9050bfc2767e",
        "colab": {
          "base_uri": "https://localhost:8080/",
          "height": 90
        }
      },
      "source": [
        "saver.restore(sess, \"./bisenet_ckpt/model_idd2\")"
      ],
      "execution_count": 0,
      "outputs": [
        {
          "output_type": "stream",
          "text": [
            "W0831 08:49:55.271504 140356339836800 deprecation.py:323] From /usr/local/lib/python3.6/dist-packages/tensorflow/python/training/saver.py:1276: checkpoint_exists (from tensorflow.python.training.checkpoint_management) is deprecated and will be removed in a future version.\n",
            "Instructions for updating:\n",
            "Use standard file APIs to check for files with this prefix.\n"
          ],
          "name": "stderr"
        }
      ]
    },
    {
      "cell_type": "code",
      "metadata": {
        "id": "lFfoQbWqOgBi",
        "colab_type": "code",
        "colab": {}
      },
      "source": [
        "saver.restore(sess, \"./bisenet_ckpt/model_idd\")"
      ],
      "execution_count": 0,
      "outputs": []
    },
    {
      "cell_type": "code",
      "metadata": {
        "id": "LmmBeKqcMqsj",
        "colab_type": "code",
        "colab": {}
      },
      "source": [
        "save_path = saver.save(sess, \"./bisenet_ckpt/model_idd2\")"
      ],
      "execution_count": 0,
      "outputs": []
    },
    {
      "cell_type": "code",
      "metadata": {
        "id": "heDlnjcV4ivf",
        "colab_type": "code",
        "colab": {}
      },
      "source": [
        "from tensorflow.python.client import timeline"
      ],
      "execution_count": 0,
      "outputs": []
    },
    {
      "cell_type": "code",
      "metadata": {
        "id": "5pYnX3XRA8sB",
        "colab_type": "code",
        "outputId": "22cad5e0-0cdb-4f53-f213-943407021295",
        "colab": {
          "base_uri": "https://localhost:8080/",
          "height": 848
        }
      },
      "source": [
        "get_batch = gen_batch_fn_idd('data/IDD', width = 1280, height = 704)\n",
        "j = 0\n",
        "for i in range(EPOCHS):\n",
        "  print(\"EPOCH {} ...\".format(i+1))\n",
        "  for image, label in get_batch(BATCH_SIZE):\n",
        "      s = time.time()\n",
        "      _, loss = sess.run([optimizer, cross_entropy_loss], \n",
        "                         feed_dict={input_im: image, gt_im: label})\n",
        "#                         options=run_options, run_metadata=run_metadata)\n",
        "      print(\"Loss: = {:.3f}\".format(loss))\n",
        "      print(time.time() - s)\n",
        "      \n",
        "#       if j==5:\n",
        "#         tl = timeline.Timeline(run_metadata.step_stats)\n",
        "#         ctf = tl.generate_chrome_trace_format()\n",
        "#         with open('timeline.json', 'w') as f:\n",
        "#             f.write(ctf)\n",
        "#         print(\"Done\")\n",
        "#         break\n",
        "#       j+=1\n",
        "#   print()\n",
        "#   break\n",
        "\n",
        "#   if i%10 == 0:\n",
        "  save_path = saver.save(sess, \"./bisenet_ckpt/model_idd2\")\n",
        "  #save_test_predictions(sess, TEST_DIR, SAVE_DIR, width = 1120, height = 256)\n"
      ],
      "execution_count": 0,
      "outputs": [
        {
          "output_type": "stream",
          "text": [
            "EPOCH 1 ...\n",
            "Loss: = 0.067\n",
            "6.860572814941406\n",
            "Loss: = 0.134\n",
            "1.0919506549835205\n",
            "Loss: = 0.219\n",
            "1.0884120464324951\n",
            "Loss: = 0.203\n",
            "1.091390609741211\n",
            "Loss: = 0.065\n",
            "1.0887327194213867\n",
            "Loss: = 0.098\n",
            "1.091291904449463\n",
            "Loss: = 0.061\n",
            "1.088341474533081\n",
            "Loss: = 0.414\n",
            "1.095041036605835\n",
            "Loss: = 0.168\n",
            "1.0904781818389893\n",
            "Loss: = 0.106\n",
            "1.0923280715942383\n",
            "Loss: = 0.181\n",
            "1.0934407711029053\n",
            "Loss: = 0.096\n",
            "1.0874485969543457\n"
          ],
          "name": "stdout"
        },
        {
          "output_type": "error",
          "ename": "KeyboardInterrupt",
          "evalue": "ignored",
          "traceback": [
            "\u001b[0;31m---------------------------------------------------------------------------\u001b[0m",
            "\u001b[0;31mKeyboardInterrupt\u001b[0m                         Traceback (most recent call last)",
            "\u001b[0;32m<ipython-input-58-01136b5d963e>\u001b[0m in \u001b[0;36m<module>\u001b[0;34m()\u001b[0m\n\u001b[1;32m      6\u001b[0m       \u001b[0ms\u001b[0m \u001b[0;34m=\u001b[0m \u001b[0mtime\u001b[0m\u001b[0;34m.\u001b[0m\u001b[0mtime\u001b[0m\u001b[0;34m(\u001b[0m\u001b[0;34m)\u001b[0m\u001b[0;34m\u001b[0m\u001b[0;34m\u001b[0m\u001b[0m\n\u001b[1;32m      7\u001b[0m       _, loss = sess.run([optimizer, cross_entropy_loss], \n\u001b[0;32m----> 8\u001b[0;31m                          feed_dict={input_im: image, gt_im: label})\n\u001b[0m\u001b[1;32m      9\u001b[0m \u001b[0;31m#                         options=run_options, run_metadata=run_metadata)\u001b[0m\u001b[0;34m\u001b[0m\u001b[0;34m\u001b[0m\u001b[0;34m\u001b[0m\u001b[0m\n\u001b[1;32m     10\u001b[0m       \u001b[0mprint\u001b[0m\u001b[0;34m(\u001b[0m\u001b[0;34m\"Loss: = {:.3f}\"\u001b[0m\u001b[0;34m.\u001b[0m\u001b[0mformat\u001b[0m\u001b[0;34m(\u001b[0m\u001b[0mloss\u001b[0m\u001b[0;34m)\u001b[0m\u001b[0;34m)\u001b[0m\u001b[0;34m\u001b[0m\u001b[0;34m\u001b[0m\u001b[0m\n",
            "\u001b[0;32m/usr/local/lib/python3.6/dist-packages/tensorflow/python/client/session.py\u001b[0m in \u001b[0;36mrun\u001b[0;34m(self, fetches, feed_dict, options, run_metadata)\u001b[0m\n\u001b[1;32m    948\u001b[0m     \u001b[0;32mtry\u001b[0m\u001b[0;34m:\u001b[0m\u001b[0;34m\u001b[0m\u001b[0;34m\u001b[0m\u001b[0m\n\u001b[1;32m    949\u001b[0m       result = self._run(None, fetches, feed_dict, options_ptr,\n\u001b[0;32m--> 950\u001b[0;31m                          run_metadata_ptr)\n\u001b[0m\u001b[1;32m    951\u001b[0m       \u001b[0;32mif\u001b[0m \u001b[0mrun_metadata\u001b[0m\u001b[0;34m:\u001b[0m\u001b[0;34m\u001b[0m\u001b[0;34m\u001b[0m\u001b[0m\n\u001b[1;32m    952\u001b[0m         \u001b[0mproto_data\u001b[0m \u001b[0;34m=\u001b[0m \u001b[0mtf_session\u001b[0m\u001b[0;34m.\u001b[0m\u001b[0mTF_GetBuffer\u001b[0m\u001b[0;34m(\u001b[0m\u001b[0mrun_metadata_ptr\u001b[0m\u001b[0;34m)\u001b[0m\u001b[0;34m\u001b[0m\u001b[0;34m\u001b[0m\u001b[0m\n",
            "\u001b[0;32m/usr/local/lib/python3.6/dist-packages/tensorflow/python/client/session.py\u001b[0m in \u001b[0;36m_run\u001b[0;34m(self, handle, fetches, feed_dict, options, run_metadata)\u001b[0m\n\u001b[1;32m   1171\u001b[0m     \u001b[0;32mif\u001b[0m \u001b[0mfinal_fetches\u001b[0m \u001b[0;32mor\u001b[0m \u001b[0mfinal_targets\u001b[0m \u001b[0;32mor\u001b[0m \u001b[0;34m(\u001b[0m\u001b[0mhandle\u001b[0m \u001b[0;32mand\u001b[0m \u001b[0mfeed_dict_tensor\u001b[0m\u001b[0;34m)\u001b[0m\u001b[0;34m:\u001b[0m\u001b[0;34m\u001b[0m\u001b[0;34m\u001b[0m\u001b[0m\n\u001b[1;32m   1172\u001b[0m       results = self._do_run(handle, final_targets, final_fetches,\n\u001b[0;32m-> 1173\u001b[0;31m                              feed_dict_tensor, options, run_metadata)\n\u001b[0m\u001b[1;32m   1174\u001b[0m     \u001b[0;32melse\u001b[0m\u001b[0;34m:\u001b[0m\u001b[0;34m\u001b[0m\u001b[0;34m\u001b[0m\u001b[0m\n\u001b[1;32m   1175\u001b[0m       \u001b[0mresults\u001b[0m \u001b[0;34m=\u001b[0m \u001b[0;34m[\u001b[0m\u001b[0;34m]\u001b[0m\u001b[0;34m\u001b[0m\u001b[0;34m\u001b[0m\u001b[0m\n",
            "\u001b[0;32m/usr/local/lib/python3.6/dist-packages/tensorflow/python/client/session.py\u001b[0m in \u001b[0;36m_do_run\u001b[0;34m(self, handle, target_list, fetch_list, feed_dict, options, run_metadata)\u001b[0m\n\u001b[1;32m   1348\u001b[0m     \u001b[0;32mif\u001b[0m \u001b[0mhandle\u001b[0m \u001b[0;32mis\u001b[0m \u001b[0;32mNone\u001b[0m\u001b[0;34m:\u001b[0m\u001b[0;34m\u001b[0m\u001b[0;34m\u001b[0m\u001b[0m\n\u001b[1;32m   1349\u001b[0m       return self._do_call(_run_fn, feeds, fetches, targets, options,\n\u001b[0;32m-> 1350\u001b[0;31m                            run_metadata)\n\u001b[0m\u001b[1;32m   1351\u001b[0m     \u001b[0;32melse\u001b[0m\u001b[0;34m:\u001b[0m\u001b[0;34m\u001b[0m\u001b[0;34m\u001b[0m\u001b[0m\n\u001b[1;32m   1352\u001b[0m       \u001b[0;32mreturn\u001b[0m \u001b[0mself\u001b[0m\u001b[0;34m.\u001b[0m\u001b[0m_do_call\u001b[0m\u001b[0;34m(\u001b[0m\u001b[0m_prun_fn\u001b[0m\u001b[0;34m,\u001b[0m \u001b[0mhandle\u001b[0m\u001b[0;34m,\u001b[0m \u001b[0mfeeds\u001b[0m\u001b[0;34m,\u001b[0m \u001b[0mfetches\u001b[0m\u001b[0;34m)\u001b[0m\u001b[0;34m\u001b[0m\u001b[0;34m\u001b[0m\u001b[0m\n",
            "\u001b[0;32m/usr/local/lib/python3.6/dist-packages/tensorflow/python/client/session.py\u001b[0m in \u001b[0;36m_do_call\u001b[0;34m(self, fn, *args)\u001b[0m\n\u001b[1;32m   1354\u001b[0m   \u001b[0;32mdef\u001b[0m \u001b[0m_do_call\u001b[0m\u001b[0;34m(\u001b[0m\u001b[0mself\u001b[0m\u001b[0;34m,\u001b[0m \u001b[0mfn\u001b[0m\u001b[0;34m,\u001b[0m \u001b[0;34m*\u001b[0m\u001b[0margs\u001b[0m\u001b[0;34m)\u001b[0m\u001b[0;34m:\u001b[0m\u001b[0;34m\u001b[0m\u001b[0;34m\u001b[0m\u001b[0m\n\u001b[1;32m   1355\u001b[0m     \u001b[0;32mtry\u001b[0m\u001b[0;34m:\u001b[0m\u001b[0;34m\u001b[0m\u001b[0;34m\u001b[0m\u001b[0m\n\u001b[0;32m-> 1356\u001b[0;31m       \u001b[0;32mreturn\u001b[0m \u001b[0mfn\u001b[0m\u001b[0;34m(\u001b[0m\u001b[0;34m*\u001b[0m\u001b[0margs\u001b[0m\u001b[0;34m)\u001b[0m\u001b[0;34m\u001b[0m\u001b[0;34m\u001b[0m\u001b[0m\n\u001b[0m\u001b[1;32m   1357\u001b[0m     \u001b[0;32mexcept\u001b[0m \u001b[0merrors\u001b[0m\u001b[0;34m.\u001b[0m\u001b[0mOpError\u001b[0m \u001b[0;32mas\u001b[0m \u001b[0me\u001b[0m\u001b[0;34m:\u001b[0m\u001b[0;34m\u001b[0m\u001b[0;34m\u001b[0m\u001b[0m\n\u001b[1;32m   1358\u001b[0m       \u001b[0mmessage\u001b[0m \u001b[0;34m=\u001b[0m \u001b[0mcompat\u001b[0m\u001b[0;34m.\u001b[0m\u001b[0mas_text\u001b[0m\u001b[0;34m(\u001b[0m\u001b[0me\u001b[0m\u001b[0;34m.\u001b[0m\u001b[0mmessage\u001b[0m\u001b[0;34m)\u001b[0m\u001b[0;34m\u001b[0m\u001b[0;34m\u001b[0m\u001b[0m\n",
            "\u001b[0;32m/usr/local/lib/python3.6/dist-packages/tensorflow/python/client/session.py\u001b[0m in \u001b[0;36m_run_fn\u001b[0;34m(feed_dict, fetch_list, target_list, options, run_metadata)\u001b[0m\n\u001b[1;32m   1339\u001b[0m       \u001b[0mself\u001b[0m\u001b[0;34m.\u001b[0m\u001b[0m_extend_graph\u001b[0m\u001b[0;34m(\u001b[0m\u001b[0;34m)\u001b[0m\u001b[0;34m\u001b[0m\u001b[0;34m\u001b[0m\u001b[0m\n\u001b[1;32m   1340\u001b[0m       return self._call_tf_sessionrun(\n\u001b[0;32m-> 1341\u001b[0;31m           options, feed_dict, fetch_list, target_list, run_metadata)\n\u001b[0m\u001b[1;32m   1342\u001b[0m \u001b[0;34m\u001b[0m\u001b[0m\n\u001b[1;32m   1343\u001b[0m     \u001b[0;32mdef\u001b[0m \u001b[0m_prun_fn\u001b[0m\u001b[0;34m(\u001b[0m\u001b[0mhandle\u001b[0m\u001b[0;34m,\u001b[0m \u001b[0mfeed_dict\u001b[0m\u001b[0;34m,\u001b[0m \u001b[0mfetch_list\u001b[0m\u001b[0;34m)\u001b[0m\u001b[0;34m:\u001b[0m\u001b[0;34m\u001b[0m\u001b[0;34m\u001b[0m\u001b[0m\n",
            "\u001b[0;32m/usr/local/lib/python3.6/dist-packages/tensorflow/python/client/session.py\u001b[0m in \u001b[0;36m_call_tf_sessionrun\u001b[0;34m(self, options, feed_dict, fetch_list, target_list, run_metadata)\u001b[0m\n\u001b[1;32m   1427\u001b[0m     return tf_session.TF_SessionRun_wrapper(\n\u001b[1;32m   1428\u001b[0m         \u001b[0mself\u001b[0m\u001b[0;34m.\u001b[0m\u001b[0m_session\u001b[0m\u001b[0;34m,\u001b[0m \u001b[0moptions\u001b[0m\u001b[0;34m,\u001b[0m \u001b[0mfeed_dict\u001b[0m\u001b[0;34m,\u001b[0m \u001b[0mfetch_list\u001b[0m\u001b[0;34m,\u001b[0m \u001b[0mtarget_list\u001b[0m\u001b[0;34m,\u001b[0m\u001b[0;34m\u001b[0m\u001b[0;34m\u001b[0m\u001b[0m\n\u001b[0;32m-> 1429\u001b[0;31m         run_metadata)\n\u001b[0m\u001b[1;32m   1430\u001b[0m \u001b[0;34m\u001b[0m\u001b[0m\n\u001b[1;32m   1431\u001b[0m   \u001b[0;32mdef\u001b[0m \u001b[0m_call_tf_sessionprun\u001b[0m\u001b[0;34m(\u001b[0m\u001b[0mself\u001b[0m\u001b[0;34m,\u001b[0m \u001b[0mhandle\u001b[0m\u001b[0;34m,\u001b[0m \u001b[0mfeed_dict\u001b[0m\u001b[0;34m,\u001b[0m \u001b[0mfetch_list\u001b[0m\u001b[0;34m)\u001b[0m\u001b[0;34m:\u001b[0m\u001b[0;34m\u001b[0m\u001b[0;34m\u001b[0m\u001b[0m\n",
            "\u001b[0;31mKeyboardInterrupt\u001b[0m: "
          ]
        }
      ]
    },
    {
      "cell_type": "code",
      "metadata": {
        "id": "lIgMzfCFfUWT",
        "colab_type": "code",
        "colab": {}
      },
      "source": [
        "sess.close()"
      ],
      "execution_count": 0,
      "outputs": []
    },
    {
      "cell_type": "code",
      "metadata": {
        "id": "sMN0NMIIBWzF",
        "colab_type": "code",
        "colab": {}
      },
      "source": [
        "save_dir = SAVE_DIR\n",
        "test_dir = TEST_DIR\n",
        "width = 1280\n",
        "height = 704"
      ],
      "execution_count": 0,
      "outputs": []
    },
    {
      "cell_type": "code",
      "metadata": {
        "id": "flK_KJmxSAlM",
        "colab_type": "code",
        "colab": {}
      },
      "source": [
        "im_names1 = []\n",
        "res = ['351875_leftImg8bit.png', '380341_leftImg8bit.png', '416335_leftImg8bit.png', '456726_leftImg8bit.png', '465708_leftImg8bit.png']\n",
        "x = glob('/content/gdrive/My Drive/SemanticSegmentation/data/IDD/leftImg8bit/train/*/*.png')\n",
        "for i in x:\n",
        "  if os.path.basename(i) in res:\n",
        "    im_names1.append(i)"
      ],
      "execution_count": 0,
      "outputs": []
    },
    {
      "cell_type": "code",
      "metadata": {
        "id": "s7LjY6VsSCy7",
        "colab_type": "code",
        "colab": {}
      },
      "source": [
        "x = glob(os.path.join('/content/gdrive/My Drive/SemanticSegmentation/data/IDD/leftImg8bit/val/*', '*.png'))"
      ],
      "execution_count": 0,
      "outputs": []
    },
    {
      "cell_type": "code",
      "metadata": {
        "id": "D1buQCuAC8rM",
        "colab_type": "code",
        "outputId": "c3d926d8-5f49-4f40-d9f8-1bf6d1918cb3",
        "colab": {
          "base_uri": "https://localhost:8080/",
          "height": 52
        }
      },
      "source": [
        "\n",
        "## Changes on Aug 18\n",
        "# mask_dir = os.path.join(save_dir, 'final_results')\n",
        "# if os.path.exists(mask_dir):\n",
        "#   shutil.rmtree(mask_dir)\n",
        "# os.makedirs(mask_dir)\n",
        "##\n",
        "output_dir = os.path.join(save_dir, 'final_results_sa')\n",
        "if os.path.exists(output_dir):\n",
        "  shutil.rmtree(output_dir)\n",
        "os.makedirs(output_dir)\n",
        "\n",
        "\n",
        "print(\"Saving images to {}\".format(output_dir))\n",
        "\n",
        "# start_time = time.time()\n",
        "\n",
        "i = 0\n",
        "# start_time = time.time()\n",
        "\n",
        "\n",
        "# for image in im_names1:\n",
        "for image in glob(os.path.join('/content/gdrive/My Drive/Pothole-Detection-Retina/keras-retinanet/data/test', '*.JPG')):\n",
        "  im = Image.open(image)\n",
        "  im = im.resize((width, height), Image.ANTIALIAS)\n",
        "\n",
        "  im_scaled = np.float32(im)/255.0\n",
        "  \n",
        "  inputs = np.array([im_scaled])\n",
        "  \n",
        "  \n",
        "  \n",
        "  label = sess.run(tf.math.softmax(output_label), feed_dict = {input_im: inputs},)\n",
        "#   print(time.time() - start_time)\n",
        "#   test_label = label\n",
        "  #print(np.array(label).shape)\n",
        "#   label = label[0][:, :, 1]\n",
        "#   segmentation = (label > 0.5).reshape(height, width, 1)\n",
        "  \n",
        "  segmentation = improve_crf(inputs, label)\n",
        "\n",
        "  mask = np.dot(segmentation, np.array([[0, 255, 0, 60]]))\n",
        "  mask = mask.astype('uint8')\n",
        "  mask = Image.fromarray(mask, 'RGBA')\n",
        "\n",
        "  # MODIFIED 3 AUG\n",
        "  im.paste(mask, mask = mask)\n",
        "\n",
        "  im_name = os.path.basename(image)\n",
        "  im_arr = im_name.split('.')\n",
        "  mask_name = im_arr[0] + '_mask.png'\n",
        "\n",
        "  mask.save(os.path.join(output_dir, mask_name))\n",
        "  im.save(os.path.join(output_dir, os.path.basename(image)))\n",
        "  \n",
        "print(\"Saved\")  \n",
        "#   print(time.time() - start_time)\n",
        "  \n",
        "#   start_time = time.time()\n",
        "\n",
        "  \n",
        "#   tl = timeline.Timeline(run_metadata.step_stats)\n",
        "#   ctf = tl.generate_chrome_trace_format()\n",
        "#   m = 'timelineg' + str(i) + '.json'\n",
        "#   with open(m, 'w') as f:\n",
        "#       f.write(ctf)\n",
        "#   i+=1\n",
        "#   print(\"--- %s seconds ---\" % (time.time() - start_time))\n",
        "  "
      ],
      "execution_count": 0,
      "outputs": [
        {
          "output_type": "stream",
          "text": [
            "Saving images to saved_tests/final_results_sa\n",
            "Saved\n"
          ],
          "name": "stdout"
        }
      ]
    },
    {
      "cell_type": "code",
      "metadata": {
        "id": "AS0WntTtcdcf",
        "colab_type": "code",
        "outputId": "a649d859-7c70-42fa-e795-f2e224d9bf88",
        "colab": {
          "base_uri": "https://localhost:8080/",
          "height": 35
        }
      },
      "source": [
        "x = glob('/content/gdrive/My Drive/SemanticSegmentation/data/IDD/leftImg8bit/val/*/401205_leftImg8bit.png')\n",
        "x"
      ],
      "execution_count": 0,
      "outputs": [
        {
          "output_type": "execute_result",
          "data": {
            "text/plain": [
              "['/content/gdrive/My Drive/SemanticSegmentation/data/IDD/leftImg8bit/val/21/401205_leftImg8bit.png']"
            ]
          },
          "metadata": {
            "tags": []
          },
          "execution_count": 72
        }
      ]
    },
    {
      "cell_type": "code",
      "metadata": {
        "id": "K3FyHswvac_f",
        "colab_type": "code",
        "colab": {}
      },
      "source": [
        "output_dir = os.path.join(save_dir, 'testing')\n",
        "# if os.path.exists(output_dir):\n",
        "#   shutil.rmtree(output_dir)\n",
        "# os.makedirs(output_dir)\n",
        "\n",
        "\n",
        "im = Image.open(x[0])\n",
        "im = im.resize((width, height), Image.ANTIALIAS)\n",
        "\n",
        "im_scaled = np.float32(im)/255.0\n",
        "\n",
        "inputs = np.array([im_scaled])\n",
        "\n",
        "\n",
        "\n",
        "label = sess.run(tf.math.softmax(output_label), feed_dict = {input_im: inputs},)\n",
        "#   print(time.time() - start_time)\n",
        "#   test_label = label\n",
        "#print(np.array(label).shape)\n",
        "# label = label[0][:, :, 1]\n",
        "# segmentation = (label > 0.5).reshape(height, width, 1)\n",
        "\n",
        "\n",
        "segmentation = improve_crf(inputs, label)\n",
        "# background = 1 - road\n",
        "# road = np.dot(road, np.array([[255, 0, 255]]))\n",
        "# background = np.dot(background, np.array([[255, 0, 0]]))\n",
        "\n",
        "mask = np.dot(segmentation, np.array([[0, 255, 0, 60]]))\n",
        "mask = mask.astype('uint8')\n",
        "mask = Image.fromarray(mask, 'RGBA')\n",
        "\n",
        "# # MODIFIED 3 AUG\n",
        "im.paste(mask, mask = mask)\n",
        "\n",
        "# im_name = os.path.basename(image)\n",
        "# im_arr = im_name.split('.')\n",
        "# mask_name = im_arr[0] + '_mask.png'\n",
        "\n",
        "# #   mask.save(os.path.join(output_dir, mask_name))\n",
        "im.save(os.path.join(output_dir, os.path.basename(x[0])))"
      ],
      "execution_count": 0,
      "outputs": []
    },
    {
      "cell_type": "code",
      "metadata": {
        "id": "YRFa0hh0eE4n",
        "colab_type": "code",
        "outputId": "11429b32-6983-4304-8e2a-cfe4ccbd0d75",
        "colab": {
          "base_uri": "https://localhost:8080/",
          "height": 35
        }
      },
      "source": [
        "label.shape"
      ],
      "execution_count": 0,
      "outputs": [
        {
          "output_type": "execute_result",
          "data": {
            "text/plain": [
              "(1, 704, 1280, 2)"
            ]
          },
          "metadata": {
            "tags": []
          },
          "execution_count": 63
        }
      ]
    },
    {
      "cell_type": "code",
      "metadata": {
        "id": "c1Wv3HWgcvMq",
        "colab_type": "code",
        "outputId": "aa610bca-f219-4604-8560-be7d6a5a0f84",
        "colab": {
          "base_uri": "https://localhost:8080/",
          "height": 35
        }
      },
      "source": [
        "segmentation.shape"
      ],
      "execution_count": 0,
      "outputs": [
        {
          "output_type": "execute_result",
          "data": {
            "text/plain": [
              "(704, 1280, 1)"
            ]
          },
          "metadata": {
            "tags": []
          },
          "execution_count": 51
        }
      ]
    },
    {
      "cell_type": "code",
      "metadata": {
        "id": "dcARKddwzZQn",
        "colab_type": "code",
        "colab": {}
      },
      "source": [
        ""
      ],
      "execution_count": 0,
      "outputs": []
    },
    {
      "cell_type": "code",
      "metadata": {
        "id": "-iaLDt4VfHel",
        "colab_type": "code",
        "colab": {}
      },
      "source": [
        "height = 704\n",
        "width = 1280\n",
        "iou_arr = []\n",
        "get_batch = gen_batch_fn_idd('data/IDD', width = width, height = height, datatype='val')\n",
        "for image, label in get_batch(1):\n",
        "  prediction = sess.run(tf.math.softmax(output_label), feed_dict = {input_im: image})\n",
        "#   road = prediction[0][:, :, 1]\n",
        "#   background = prediction[0][:, :, 0]\n",
        "  road_target = label[0][:, :, 1].reshape(height, width, 1)\n",
        "  background_target = label[0][:, :, 0].reshape(height, width, 1)\n",
        "  \n",
        "#   road = (road > 0.5).reshape(height, width, 1)\n",
        "#   background = (background > 0.5).reshape(height, width, 1)\n",
        "  \n",
        "#   road = np.dot(road, np.array([[255, 0, 255]]))\n",
        "#   background = np.dot(background, np.array([[255, 0, 0]]))\n",
        "  road_target = np.dot(road_target, np.array([[255, 0, 255]]))\n",
        "  background_target = np.dot(background_target, np.array([[255, 0, 0]]))\n",
        "  \n",
        "  road = improve_crf(image, prediction)\n",
        "  background = 1 - road\n",
        "  road = np.dot(road, np.array([[255, 0, 255]]))\n",
        "  background = np.dot(background, np.array([[255, 0, 0]]))\n",
        "#   pred_im = x + y\n",
        "  \n",
        "  pred_im = road + background\n",
        "  target_im = road_target + background_target\n",
        "  \n",
        "    \n",
        "  intersection = np.logical_and(target_im, pred_im)\n",
        "  union = np.logical_or(target_im, pred_im)\n",
        "  iou_score = np.sum(intersection) / np.sum(union)\n",
        "  \n",
        "  iou_arr.append(iou_score)\n",
        "\n",
        "  print(iou_score)\n",
        "  \n",
        "  ## 28-08\n",
        "#   break"
      ],
      "execution_count": 0,
      "outputs": []
    },
    {
      "cell_type": "code",
      "metadata": {
        "id": "J_3yAEwj6Zda",
        "colab_type": "code",
        "outputId": "a5926ce3-8dc7-4e22-af52-91c08a9668c3",
        "colab": {
          "base_uri": "https://localhost:8080/",
          "height": 33
        }
      },
      "source": [
        "len(iou_arr)"
      ],
      "execution_count": 0,
      "outputs": [
        {
          "output_type": "execute_result",
          "data": {
            "text/plain": [
              "981"
            ]
          },
          "metadata": {
            "tags": []
          },
          "execution_count": 112
        }
      ]
    },
    {
      "cell_type": "code",
      "metadata": {
        "id": "G0F77fUu4D_t",
        "colab_type": "code",
        "outputId": "26a2aaf4-d249-4783-f4a6-9e4d85b6c646",
        "colab": {
          "base_uri": "https://localhost:8080/",
          "height": 33
        }
      },
      "source": [
        "## With CRF\n",
        "np.mean(iou_arr)"
      ],
      "execution_count": 0,
      "outputs": [
        {
          "output_type": "execute_result",
          "data": {
            "text/plain": [
              "0.9626840999721897"
            ]
          },
          "metadata": {
            "tags": []
          },
          "execution_count": 113
        }
      ]
    },
    {
      "cell_type": "code",
      "metadata": {
        "id": "DqvzG9Q4GVWn",
        "colab_type": "code",
        "outputId": "b3a01650-183d-47ba-aa12-3e5c03bb8825",
        "colab": {
          "base_uri": "https://localhost:8080/",
          "height": 35
        }
      },
      "source": [
        "## Without CRF\n",
        "\n",
        "np.mean(iou_arr)"
      ],
      "execution_count": 0,
      "outputs": [
        {
          "output_type": "execute_result",
          "data": {
            "text/plain": [
              "0.9654240350647626"
            ]
          },
          "metadata": {
            "tags": []
          },
          "execution_count": 46
        }
      ]
    },
    {
      "cell_type": "code",
      "metadata": {
        "id": "lv-obqjcB4t4",
        "colab_type": "code",
        "outputId": "16cb5739-2104-44ee-81c2-934a925384d5",
        "colab": {
          "base_uri": "https://localhost:8080/",
          "height": 33
        }
      },
      "source": [
        "!ls"
      ],
      "execution_count": 0,
      "outputs": [
        {
          "output_type": "stream",
          "text": [
            "bisenet_ckpt  crf  data  models  runs  runs2  saved_tests\n"
          ],
          "name": "stdout"
        }
      ]
    },
    {
      "cell_type": "code",
      "metadata": {
        "id": "VqRu__RiB3cj",
        "colab_type": "code",
        "outputId": "65c07f01-f885-4be4-dbaf-abaae4b4b48f",
        "colab": {
          "base_uri": "https://localhost:8080/",
          "height": 214
        }
      },
      "source": [
        "pip install git+https://github.com/lucasb-eyer/pydensecrf.git"
      ],
      "execution_count": 0,
      "outputs": [
        {
          "output_type": "stream",
          "text": [
            "Collecting git+https://github.com/lucasb-eyer/pydensecrf.git\n",
            "  Cloning https://github.com/lucasb-eyer/pydensecrf.git to /tmp/pip-req-build-_8866yt4\n",
            "  Running command git clone -q https://github.com/lucasb-eyer/pydensecrf.git /tmp/pip-req-build-_8866yt4\n",
            "Building wheels for collected packages: pydensecrf\n",
            "  Building wheel for pydensecrf (setup.py) ... \u001b[?25l\u001b[?25hdone\n",
            "  Created wheel for pydensecrf: filename=pydensecrf-1.0rc2-cp36-cp36m-linux_x86_64.whl size=2235008 sha256=ebcd0e24f02aeb72091f90e408fd43e5ea31a9474b613cee820e0d01685e3d9e\n",
            "  Stored in directory: /tmp/pip-ephem-wheel-cache-rcdpml2s/wheels/81/ac/ed/09f1890b954ca1ff7f189518cc9a319138e50e7ea88937fae9\n",
            "Successfully built pydensecrf\n",
            "Installing collected packages: pydensecrf\n",
            "Successfully installed pydensecrf-1.0rc2\n"
          ],
          "name": "stdout"
        }
      ]
    },
    {
      "cell_type": "code",
      "metadata": {
        "id": "MDcoBELldZlU",
        "colab_type": "code",
        "colab": {}
      },
      "source": [
        "import sys\n",
        "\n",
        "# path = \"/content/gdrive/My Drive/SemanticSegmentation/crf/pydensecrf/\"\n",
        "# sys.path.append(path)\n",
        "\n",
        "import pydensecrf.densecrf as dcrf\n",
        "\n",
        "from pydensecrf.utils import compute_unary, create_pairwise_bilateral, \\\n",
        "    create_pairwise_gaussian, unary_from_softmax\n",
        "\n",
        "import skimage.io as io\n",
        "\n",
        "import matplotlib.pyplot as plt"
      ],
      "execution_count": 0,
      "outputs": []
    },
    {
      "cell_type": "code",
      "metadata": {
        "id": "_Et9-hIG_FMU",
        "colab_type": "code",
        "colab": {}
      },
      "source": [
        "def improve_crf(image, prediction):\n",
        "  image_crf = image[0]\n",
        "\n",
        "  softmax = prediction[0].squeeze()\n",
        "\n",
        "  softmax = softmax.transpose((2, 0, 1))\n",
        "\n",
        "  # The input should be the negative of the logarithm of probability values\n",
        "  # Look up the definition of the softmax_to_unary for more information\n",
        "  unary = unary_from_softmax(softmax)\n",
        "\n",
        "  # The inputs should be C-continious -- we are using Cython wrapper\n",
        "  unary = np.ascontiguousarray(unary)\n",
        "\n",
        "  d = dcrf.DenseCRF(image_crf.shape[0] * image_crf.shape[1], 2)\n",
        "\n",
        "  d.setUnaryEnergy(unary)\n",
        "\n",
        "  # This potential penalizes small pieces of segmentation that are\n",
        "  # spatially isolated -- enforces more spatially consistent segmentations\n",
        "  feats = create_pairwise_gaussian(sdims=(10, 10), shape=image_crf.shape[:2])\n",
        "\n",
        "  d.addPairwiseEnergy(feats, compat=3,\n",
        "                      kernel=dcrf.DIAG_KERNEL,\n",
        "                      normalization=dcrf.NORMALIZE_SYMMETRIC)\n",
        "\n",
        "  # This creates the color-dependent features --\n",
        "  # because the segmentation that we get from CNN are too coarse\n",
        "  # and we can use local color features to refine them\n",
        "  feats = create_pairwise_bilateral(sdims=(50, 50), schan=(20, 20, 20),\n",
        "                                     img=image_crf, chdim=2)\n",
        "\n",
        "  d.addPairwiseEnergy(feats, compat=10,\n",
        "                       kernel=dcrf.DIAG_KERNEL,\n",
        "                       normalization=dcrf.NORMALIZE_SYMMETRIC)\n",
        "  Q = d.inference(5)\n",
        "\n",
        "  res = np.argmax(Q, axis=0).reshape((image_crf.shape[0], image_crf.shape[1]))\n",
        "  \n",
        "  return res.reshape((image_crf.shape[0], image_crf.shape[1], 1))\n",
        "\n",
        "  # cmap = plt.get_cmap('bwr')\n",
        "\n",
        "  # f, (ax1, ax2) = plt.subplots(1, 2, sharey=True)\n",
        "  # ax1.imshow(res, vmax=1.5, vmin=-0.4, cmap=cmap)\n",
        "  # ax1.set_title('Segmentation with CRF post-processing')\n",
        "  # probability_graph = ax2.imshow(np.dstack((label[0],)*3)*100)\n",
        "  # ax2.set_title('Ground-Truth Annotation')\n",
        "  # plt.show()"
      ],
      "execution_count": 0,
      "outputs": []
    },
    {
      "cell_type": "code",
      "metadata": {
        "id": "39rptkXdwrWM",
        "colab_type": "code",
        "outputId": "92d7a1c6-bb31-4921-f3ec-c6e0af7b42ad",
        "colab": {
          "base_uri": "https://localhost:8080/",
          "height": 33
        }
      },
      "source": [
        "res = res.reshape(image_crf.shape[0], image_crf.shape[1], 1)\n",
        "print(res.shape)"
      ],
      "execution_count": 0,
      "outputs": [
        {
          "output_type": "stream",
          "text": [
            "(704, 1280, 1)\n"
          ],
          "name": "stdout"
        }
      ]
    },
    {
      "cell_type": "code",
      "metadata": {
        "id": "BTjAaIRkxAMz",
        "colab_type": "code",
        "colab": {}
      },
      "source": [
        ""
      ],
      "execution_count": 0,
      "outputs": []
    },
    {
      "cell_type": "code",
      "metadata": {
        "id": "YzRfDpplxl1Q",
        "colab_type": "code",
        "outputId": "701708a8-1e16-471d-f35b-e1065d4d84cd",
        "colab": {
          "base_uri": "https://localhost:8080/",
          "height": 252
        }
      },
      "source": [
        "imshow(pred_im)"
      ],
      "execution_count": 0,
      "outputs": [
        {
          "output_type": "execute_result",
          "data": {
            "text/plain": [
              "<matplotlib.image.AxesImage at 0x7f28010a0390>"
            ]
          },
          "metadata": {
            "tags": []
          },
          "execution_count": 102
        },
        {
          "output_type": "display_data",
          "data": {
            "image/png": "[encoded data removed]",
            "text/plain": [
              "<Figure size 432x288 with 1 Axes>"
            ]
          },
          "metadata": {
            "tags": []
          }
        }
      ]
    },
    {
      "cell_type": "code",
      "metadata": {
        "id": "0vUEw-ZxJVK-",
        "colab_type": "code",
        "outputId": "fe8abd81-1bf7-475f-fe72-866d5552b872",
        "colab": {
          "base_uri": "https://localhost:8080/",
          "height": 33
        }
      },
      "source": [
        "res.reshape((image_crf.shape[0], image_crf.shape[1], 1)\n",
        "road = np.dot(road, np.array([[255, 0, 255]]))\n",
        "background = np.dot(background, np.array([[255, 0, 0]]))\n",
        "road_target = np.dot(road_target, np.array([[255, 0, 255]]))\n",
        "background_target = np.dot(background_target, np.array([[255, 0, 0]]))\n",
        "\n",
        "pred_im = road + background"
      ],
      "execution_count": 0,
      "outputs": [
        {
          "output_type": "execute_result",
          "data": {
            "text/plain": [
              "(704, 1280)"
            ]
          },
          "metadata": {
            "tags": []
          },
          "execution_count": 64
        }
      ]
    },
    {
      "cell_type": "code",
      "metadata": {
        "id": "8bc2rKqJqHmO",
        "colab_type": "code",
        "colab": {}
      },
      "source": [
        "sess.close()"
      ],
      "execution_count": 0,
      "outputs": []
    },
    {
      "cell_type": "code",
      "metadata": {
        "id": "8jZfk7gw_FKl",
        "colab_type": "code",
        "outputId": "4401297f-3895-43de-e25a-63b40227fc1b",
        "colab": {
          "base_uri": "https://localhost:8080/",
          "height": 33
        }
      },
      "source": [
        "label[0].shape"
      ],
      "execution_count": 0,
      "outputs": [
        {
          "output_type": "execute_result",
          "data": {
            "text/plain": [
              "(704, 1280, 2)"
            ]
          },
          "metadata": {
            "tags": []
          },
          "execution_count": 70
        }
      ]
    },
    {
      "cell_type": "code",
      "metadata": {
        "id": "wTzyZC-r_FHi",
        "colab_type": "code",
        "colab": {}
      },
      "source": [
        ""
      ],
      "execution_count": 0,
      "outputs": []
    },
    {
      "cell_type": "code",
      "metadata": {
        "id": "W4TUUvqJC8h5",
        "colab_type": "code",
        "outputId": "94e132f7-8118-4107-f2c1-9592af5bf14d",
        "colab": {
          "base_uri": "https://localhost:8080/",
          "height": 145
        }
      },
      "source": [
        "imshow(pred_im)"
      ],
      "execution_count": 0,
      "outputs": [
        {
          "output_type": "execute_result",
          "data": {
            "text/plain": [
              "<matplotlib.image.AxesImage at 0x7f39700e9cc0>"
            ]
          },
          "metadata": {
            "tags": []
          },
          "execution_count": 58
        },
        {
          "output_type": "display_data",
          "data": {
            "image/png": "[encoded data removed]",
            "text/plain": [
              "<Figure size 432x288 with 1 Axes>"
            ]
          },
          "metadata": {
            "tags": []
          }
        }
      ]
    },
    {
      "cell_type": "code",
      "metadata": {
        "id": "gQL9EUPDC8e5",
        "colab_type": "code",
        "outputId": "a63bd610-4364-4397-b07e-bb67c192cace",
        "colab": {
          "base_uri": "https://localhost:8080/",
          "height": 35
        }
      },
      "source": [
        "start_time = time.time()\n",
        "\n",
        "im = Image.open('data/demo/uu_000095.png')\n",
        "# print(im.size)\n",
        "im = im.resize((width, height), Image.ANTIALIAS)\n",
        "\n",
        "im_scaled = np.float32(im)/255.0\n",
        "\n",
        "inputs = np.array([im_scaled])\n",
        "\n",
        "label = sess.run(tf.math.softmax(output_label), feed_dict = {input_im: inputs})\n",
        "test_label = label\n",
        "#print(np.array(label).shape)\n",
        "label = label[0][:, :, 1]\n",
        "segmentation = (label > 0.5).reshape(height, width, 1)\n",
        "\n",
        "#mask = \n",
        "mask = np.dot(segmentation, np.array([[0, 255, 0, 127]]))\n",
        "mask = mask.astype('uint8')\n",
        "mask = Image.fromarray(mask, 'RGBA')\n",
        "\n",
        "im.paste(mask, mask = mask)\n",
        "\n",
        "x = np.array(im)\n",
        "\n",
        "print(\"--- %s seconds ---\" % (time.time() - start_time))"
      ],
      "execution_count": 0,
      "outputs": [
        {
          "output_type": "stream",
          "text": [
            "--- 1.1712534427642822 seconds ---\n"
          ],
          "name": "stdout"
        }
      ]
    },
    {
      "cell_type": "code",
      "metadata": {
        "id": "BjXLJbZSy6_K",
        "colab_type": "code",
        "outputId": "f7c150b6-ec45-4a05-8aed-9a2b1e7d4006",
        "colab": {
          "base_uri": "https://localhost:8080/",
          "height": 145
        }
      },
      "source": [
        "imshow(x)"
      ],
      "execution_count": 0,
      "outputs": [
        {
          "output_type": "execute_result",
          "data": {
            "text/plain": [
              "<matplotlib.image.AxesImage at 0x7f97800a67f0>"
            ]
          },
          "metadata": {
            "tags": []
          },
          "execution_count": 57
        },
        {
          "output_type": "display_data",
          "data": {
            "image/png": "[encoded data removed]",
            "text/plain": [
              "<Figure size 432x288 with 1 Axes>"
            ]
          },
          "metadata": {
            "tags": []
          }
        }
      ]
    },
    {
      "cell_type": "code",
      "metadata": {
        "id": "BC9rSm-MKJlX",
        "colab_type": "code",
        "colab": {}
      },
      "source": [
        ""
      ],
      "execution_count": 0,
      "outputs": []
    },
    {
      "cell_type": "code",
      "metadata": {
        "id": "oryaTKipKJiT",
        "colab_type": "code",
        "colab": {}
      },
      "source": [
        ""
      ],
      "execution_count": 0,
      "outputs": []
    },
    {
      "cell_type": "code",
      "metadata": {
        "id": "R9Tq661zKJfL",
        "colab_type": "code",
        "colab": {}
      },
      "source": [
        ""
      ],
      "execution_count": 0,
      "outputs": []
    },
    {
      "cell_type": "code",
      "metadata": {
        "id": "-c-TeUHfKJXP",
        "colab_type": "code",
        "colab": {}
      },
      "source": [
        ""
      ],
      "execution_count": 0,
      "outputs": []
    },
    {
      "cell_type": "code",
      "metadata": {
        "id": "6UfRXTCIQJsY",
        "colab_type": "code",
        "outputId": "99763742-3af8-4fbc-9e56-8ac18142c1b7",
        "colab": {
          "base_uri": "https://localhost:8080/",
          "height": 35
        }
      },
      "source": [
        "print(end_points['pool4'])"
      ],
      "execution_count": 0,
      "outputs": [
        {
          "output_type": "stream",
          "text": [
            "Tensor(\"resnet_v2_101/block2/unit_4/bottleneck_v2/add:0\", shape=(?, 70, 16, 512), dtype=float32)\n"
          ],
          "name": "stdout"
        }
      ]
    },
    {
      "cell_type": "code",
      "metadata": {
        "id": "b8dCBCHLkRcm",
        "colab_type": "code",
        "outputId": "6ababca8-a5b8-4604-dfc4-ec272dc500b3",
        "colab": {
          "base_uri": "https://localhost:8080/",
          "height": 35
        }
      },
      "source": [
        "# Equivalent to pool4\n",
        "print(end_points[frontend_scope + '/block2'])"
      ],
      "execution_count": 0,
      "outputs": [
        {
          "output_type": "stream",
          "text": [
            "Tensor(\"resnet_v2_101/block2/unit_4/bottleneck_v2/add:0\", shape=(?, 70, 16, 512), dtype=float32)\n"
          ],
          "name": "stdout"
        }
      ]
    },
    {
      "cell_type": "code",
      "metadata": {
        "id": "4VTlJHW6fNsD",
        "colab_type": "code",
        "outputId": "fb84fbf7-6d3e-4806-cc64-ce59d649afca",
        "colab": {
          "base_uri": "https://localhost:8080/",
          "height": 35
        }
      },
      "source": [
        "print(end_points['pool5'])"
      ],
      "execution_count": 0,
      "outputs": [
        {
          "output_type": "stream",
          "text": [
            "Tensor(\"resnet_v2_101/postnorm/Relu:0\", shape=(?, 35, 8, 2048), dtype=float32)\n"
          ],
          "name": "stdout"
        }
      ]
    },
    {
      "cell_type": "code",
      "metadata": {
        "id": "GQuWESpmkTzN",
        "colab_type": "code",
        "outputId": "70b6ff07-82b4-4c03-ea53-e30f3081d505",
        "colab": {
          "base_uri": "https://localhost:8080/",
          "height": 35
        }
      },
      "source": [
        "# Equivalent to pool5\n",
        "print(logits)"
      ],
      "execution_count": 0,
      "outputs": [
        {
          "output_type": "stream",
          "text": [
            "Tensor(\"resnet_v2_101/postnorm/Relu:0\", shape=(?, 35, 8, 2048), dtype=float32)\n"
          ],
          "name": "stdout"
        }
      ]
    },
    {
      "cell_type": "code",
      "metadata": {
        "id": "PAYPBWGmg8DN",
        "colab_type": "code",
        "outputId": "e2a156eb-a7e3-4c6f-f794-f04877b147cb",
        "colab": {
          "base_uri": "https://localhost:8080/",
          "height": 35
        }
      },
      "source": [
        "print(end_points[frontend_scope + '/block3'])"
      ],
      "execution_count": 0,
      "outputs": [
        {
          "output_type": "stream",
          "text": [
            "Tensor(\"resnet_v2_101/block3/unit_23/bottleneck_v2/add:0\", shape=(?, 35, 8, 1024), dtype=float32)\n"
          ],
          "name": "stdout"
        }
      ]
    },
    {
      "cell_type": "code",
      "metadata": {
        "id": "IE93RoDlkkiE",
        "colab_type": "code",
        "colab": {}
      },
      "source": [
        "for key in end_points:\n",
        "  print(key)"
      ],
      "execution_count": 0,
      "outputs": []
    },
    {
      "cell_type": "code",
      "metadata": {
        "id": "d3kWGZrPdE-_",
        "colab_type": "code",
        "colab": {}
      },
      "source": [
        "x = end_points[frontend_scope + '/block1']"
      ],
      "execution_count": 0,
      "outputs": []
    },
    {
      "cell_type": "code",
      "metadata": {
        "id": "XOzH0IjXdNIb",
        "colab_type": "code",
        "outputId": "ffd21ac2-4b8a-4cf3-b38b-6c4533bbcd93",
        "colab": {
          "base_uri": "https://localhost:8080/",
          "height": 35
        }
      },
      "source": [
        "print(x)"
      ],
      "execution_count": 0,
      "outputs": [
        {
          "output_type": "stream",
          "text": [
            "Tensor(\"resnet_v2_101/block1/unit_3/bottleneck_v2/add:0\", shape=(?, ?, ?, 256), dtype=float32)\n"
          ],
          "name": "stdout"
        }
      ]
    },
    {
      "cell_type": "code",
      "metadata": {
        "id": "EdU7lDnhdQjs",
        "colab_type": "code",
        "outputId": "a92a24f2-1a77-40aa-8e53-2f10dbffd204",
        "colab": {
          "base_uri": "https://localhost:8080/",
          "height": 35
        }
      },
      "source": [
        "print(end_points['pool3'])"
      ],
      "execution_count": 0,
      "outputs": [
        {
          "output_type": "stream",
          "text": [
            "Tensor(\"resnet_v2_101/block1/unit_3/bottleneck_v2/add:0\", shape=(?, ?, ?, 256), dtype=float32)\n"
          ],
          "name": "stdout"
        }
      ]
    },
    {
      "cell_type": "code",
      "metadata": {
        "id": "EjCXu0A_iLyZ",
        "colab_type": "code",
        "colab": {}
      },
      "source": [
        "def main():\n",
        "  num_classes = 2\n",
        "  data_dir = './gdrive/My Drive/SemanticSegmentation/data'\n"
      ],
      "execution_count": 0,
      "outputs": []
    },
    {
      "cell_type": "code",
      "metadata": {
        "id": "s2b5vlrqKHfn",
        "colab_type": "code",
        "colab": {}
      },
      "source": [
        "output_dir = os.path.join(save_dir, str(time.time()))\n",
        "if os.path.exists(output_dir):\n",
        "  shutil.rmtree(output_dir)\n",
        "os.makedirs(output_dir)\n",
        "\n",
        "print(\"Training finished. Saving images to {}\".format(output_dir))\n",
        "\n",
        "for image in glob(os.path.join(test_dir, 'image_2', '*.png')):\n",
        "  im = Image.open(image)\n",
        "  im = im.resize((width, height), Image.ANTIALIAS)\n",
        "\n",
        "  im_scaled = np.float32(im)/255.0\n",
        "  \n",
        "  inputs = np.array([im_scaled])\n",
        "    \n",
        "  label = sess.run(tf.math.softmax(output_label), feed_dict = {input_im: inputs})\n",
        "  test_label = label\n",
        "  #print(np.array(label).shape)\n",
        "  label = label[0][:, :, 1]\n",
        "  segmentation = (label > 0.5).reshape(height, width, 1)\n",
        "\n",
        "  #mask = \n",
        "  mask = np.dot(segmentation, np.array([[0, 255, 0, 127]]))\n",
        "  mask = mask.astype('uint8')\n",
        "  mask = Image.fromarray(mask, 'RGBA')\n",
        "\n",
        "  im.paste(mask, mask = mask)\n",
        "\n",
        "  im.save(os.path.join(output_dir, os.path.basename(image)))"
      ],
      "execution_count": 0,
      "outputs": []
    }
  ]
}